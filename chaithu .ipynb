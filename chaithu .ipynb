{
 "cells": [
  {
   "cell_type": "markdown",
   "id": "08c8eb23-af0d-41e6-9bd3-4ab0c12347f9",
   "metadata": {},
   "source": [
    "## 1.\tWrite a Python program that takes a list of integers and returns the count of prime numbers in that list."
   ]
  },
  {
   "cell_type": "code",
   "execution_count": 19,
   "id": "ed4313ac-ba2b-455f-8dea-d2efc88f9e1e",
   "metadata": {},
   "outputs": [],
   "source": [
    "def prime(n):\n",
    "    if n <= 1:\n",
    "        return False\n",
    "    for i in range(2,n): # Check divisibility from 2 up to n-1\n",
    "        if n % i== 0:\n",
    "            return False\n",
    "    return True\n",
    "\n",
    "def count_primes(lst):\n",
    "    return len([x for x in lst if prime(x)])"
   ]
  },
  {
   "cell_type": "code",
   "execution_count": 21,
   "id": "a0955d14-a47a-4feb-8368-cba215139230",
   "metadata": {},
   "outputs": [
    {
     "name": "stdout",
     "output_type": "stream",
     "text": [
      "4\n"
     ]
    }
   ],
   "source": [
    "number = [2,3,4,5,6,7,8,9]\n",
    "print(count_primes(number))"
   ]
  },
  {
   "cell_type": "markdown",
   "id": "4c20b23f-f0ac-43de-abe6-c60b77cb226d",
   "metadata": {},
   "source": [
    "## 2.\tWrite a Python program that takes an integer n and returns a list containing the Fibonacci series up to the n-th term"
   ]
  },
  {
   "cell_type": "code",
   "execution_count": 31,
   "id": "2936f82c-c871-4ce5-842a-bc3fcbc6b324",
   "metadata": {},
   "outputs": [],
   "source": [
    "def febnoccie(num):\n",
    "    feb_series = []\n",
    "    a,b = 0,1\n",
    "    for i in range(num):\n",
    "        feb_series.append(a)\n",
    "        a,b = b, a+b\n",
    "    return feb_series"
   ]
  },
  {
   "cell_type": "code",
   "execution_count": 33,
   "id": "1e381819-aad0-4053-a2b3-fbc71bed78f2",
   "metadata": {},
   "outputs": [
    {
     "name": "stdout",
     "output_type": "stream",
     "text": [
      "[0, 1, 1, 2, 3, 5, 8]\n"
     ]
    }
   ],
   "source": [
    "print(febnoccie(7))"
   ]
  },
  {
   "cell_type": "markdown",
   "id": "32994c7c-399f-4035-8b71-3ebfbb31d5dd",
   "metadata": {},
   "source": [
    "## 3.\tWrite a Python program that takes an integer n and returns the factorial of that number."
   ]
  },
  {
   "cell_type": "code",
   "execution_count": 36,
   "id": "81c5f264-8307-4e47-8df1-28b3b9b48093",
   "metadata": {},
   "outputs": [],
   "source": [
    "def factorial(n):\n",
    "    if n == 0 or n ==1:\n",
    "        return 1\n",
    "    else:\n",
    "        return n*factorial (n-1)"
   ]
  },
  {
   "cell_type": "code",
   "execution_count": 38,
   "id": "d1eaf648-11fd-478e-b67c-df9de6e6db8f",
   "metadata": {},
   "outputs": [
    {
     "name": "stdout",
     "output_type": "stream",
     "text": [
      "120\n"
     ]
    }
   ],
   "source": [
    "print(factorial(5))"
   ]
  },
  {
   "cell_type": "markdown",
   "id": "30bbb4d4-4e5d-4021-8e68-113cd83e3234",
   "metadata": {},
   "source": [
    "## 4.\tCreate a python program that takes a string as input and returns the reversed version of that string."
   ]
  },
  {
   "cell_type": "code",
   "execution_count": 45,
   "id": "85cfcd00-351d-4c43-b48a-1d1034589cb6",
   "metadata": {},
   "outputs": [],
   "source": [
    "def reverse_string(s):\n",
    "    return s[::-1]\n",
    "    "
   ]
  },
  {
   "cell_type": "code",
   "execution_count": 49,
   "id": "e256a5ce-7a52-401e-b471-ca65f0a4ccbf",
   "metadata": {},
   "outputs": [
    {
     "name": "stdout",
     "output_type": "stream",
     "text": [
      "uhtiahc\n"
     ]
    }
   ],
   "source": [
    "string = \"chaithu\"\n",
    "print(reverse_string(string))"
   ]
  },
  {
   "cell_type": "markdown",
   "id": "73256a17-3fcd-4ab8-b618-42bc5b3e2417",
   "metadata": {},
   "source": [
    "## 5.\tWrite a program that takes a list as input and returns a new list that is the reverse of the input list "
   ]
  },
  {
   "cell_type": "code",
   "execution_count": 54,
   "id": "eb133091-8af1-472c-ab8c-f52a9a3e6e66",
   "metadata": {},
   "outputs": [],
   "source": [
    "def revers_list(l):\n",
    "    return l[::-1]"
   ]
  },
  {
   "cell_type": "code",
   "execution_count": 56,
   "id": "8193f325-e8e9-47c7-b83c-9d31452b435c",
   "metadata": {},
   "outputs": [
    {
     "name": "stdout",
     "output_type": "stream",
     "text": [
      "[6, 5, 4, 3, 2, 1, 0]\n"
     ]
    }
   ],
   "source": [
    "list = [0,1,2,3,4,5,6,]\n",
    "print(revers_list(list))"
   ]
  },
  {
   "cell_type": "markdown",
   "id": "8fdcef61-8e23-46ba-ab0d-5b1213d8d4b3",
   "metadata": {},
   "source": [
    "## 6.\t Create a program that takes a list of numbers and returns a list containing the maximum and minimum values in the list."
   ]
  },
  {
   "cell_type": "code",
   "execution_count": 59,
   "id": "2aad2823-922a-43fe-9d47-d32a8d929ea8",
   "metadata": {},
   "outputs": [],
   "source": [
    "def list(l):\n",
    "    return[max(l), min(l)]"
   ]
  },
  {
   "cell_type": "code",
   "execution_count": 61,
   "id": "c04ee327-812f-4f72-9171-1f2355190f7d",
   "metadata": {},
   "outputs": [
    {
     "name": "stdout",
     "output_type": "stream",
     "text": [
      "[50, 0]\n"
     ]
    }
   ],
   "source": [
    "li = [0,2,3,50,10]\n",
    "print(list(li))"
   ]
  },
  {
   "cell_type": "markdown",
   "id": "44cb3ac4-a9b2-41f3-b804-377baee4b11b",
   "metadata": {},
   "source": [
    "## 7.\tWrite a program that takes a string s = “data structures using python” and returns a list of words."
   ]
  },
  {
   "cell_type": "code",
   "execution_count": 66,
   "id": "19faead5-64da-4a9d-91a3-a3240cabdf57",
   "metadata": {},
   "outputs": [],
   "source": [
    "def split1_word(s):\n",
    "    return s.split()"
   ]
  },
  {
   "cell_type": "code",
   "execution_count": 68,
   "id": "ab15cafb-141e-4246-9915-bc00257227bd",
   "metadata": {},
   "outputs": [
    {
     "name": "stdout",
     "output_type": "stream",
     "text": [
      "['data', 'structures', 'using', 'python']\n"
     ]
    }
   ],
   "source": [
    "string = \"data structures using python\"\n",
    "print(split1_word(string))"
   ]
  },
  {
   "cell_type": "markdown",
   "id": "cf73d736-df4c-4ff3-9e66-5753e017d57f",
   "metadata": {},
   "source": [
    "## 8.\tWrite a program that takes two sorted lists list1 and list2 and returns a single sorted list containing all elements from both lists"
   ]
  },
  {
   "cell_type": "code",
   "execution_count": 71,
   "id": "1fa77b1a-67c9-484f-8e31-670dd5b28c74",
   "metadata": {},
   "outputs": [],
   "source": [
    "def sort_list(list1, list2):\n",
    "    return sorted(list1 + list2)"
   ]
  },
  {
   "cell_type": "markdown",
   "id": "c0f5938a-b87a-4f95-9369-51f7357a992a",
   "metadata": {},
   "source": [
    "list1 = [1,2,3]\n",
    "list2 = [4,5,6]\n",
    "print(sort_list(list1, list2))"
   ]
  },
  {
   "cell_type": "markdown",
   "id": "4312d6ff-5ba2-4040-b6d2-cb1c22dfce09",
   "metadata": {},
   "source": [
    "## 9.\tWrite a python program to implement Method Overloading."
   ]
  },
  {
   "cell_type": "code",
   "execution_count": 78,
   "id": "6dd98c02-a3f2-4da9-aeb5-3cf7e878beb5",
   "metadata": {},
   "outputs": [],
   "source": [
    "class Calculator:\n",
    "    def add(self, a=None, b=None, c=None):\n",
    "        if a is not None and b is not None and c is not None:\n",
    "            return a + b + c\n",
    "        elif a is not None and b is not None:\n",
    "            return a + b\n",
    "        elif a is not None:\n",
    "            return a\n",
    "        else:\n",
    "            return 0\n"
   ]
  },
  {
   "cell_type": "code",
   "execution_count": 82,
   "id": "04ed218e-59c4-4b7f-bc6c-0086368259c0",
   "metadata": {},
   "outputs": [
    {
     "name": "stdout",
     "output_type": "stream",
     "text": [
      "6\n",
      "3\n",
      "1\n"
     ]
    }
   ],
   "source": [
    "calc = Calculator()\n",
    "print(calc.add(1, 2, 3))  \n",
    "print(calc.add(1, 2))     \n",
    "print(calc.add(1))      "
   ]
  },
  {
   "cell_type": "markdown",
   "id": "5abc7b78-085e-45ac-8905-62d4bd3bdfff",
   "metadata": {},
   "source": [
    "## 10.\tWrite a python program to implement Method Overriding."
   ]
  },
  {
   "cell_type": "code",
   "execution_count": 85,
   "id": "280caf4c-7758-4af0-9148-b48096c97df2",
   "metadata": {},
   "outputs": [],
   "source": [
    "class Animal:\n",
    "    def sound(self):\n",
    "        return \"Some sound\"\n",
    "\n",
    "class Dog(Animal):\n",
    "    def sound(self):\n",
    "        return \"Bark\"\n"
   ]
  },
  {
   "cell_type": "code",
   "execution_count": 87,
   "id": "e407633d-6d37-4277-8748-4b99653cd5d9",
   "metadata": {},
   "outputs": [
    {
     "name": "stdout",
     "output_type": "stream",
     "text": [
      "Bark\n"
     ]
    }
   ],
   "source": [
    "dog = Dog()\n",
    "print(dog.sound()) \n"
   ]
  },
  {
   "cell_type": "markdown",
   "id": "67c15fcd-bbdb-4ef1-90e8-ed79a51bf650",
   "metadata": {},
   "source": [
    "## 11.\tWrite a python program on List Comprehensions using for loop and without loop."
   ]
  },
  {
   "cell_type": "code",
   "execution_count": 89,
   "id": "50fc2c26-b106-4e5d-800b-65ec740c0988",
   "metadata": {},
   "outputs": [],
   "source": [
    "squares = []\n",
    "for i in range(1, 6):\n",
    "    squares.append(i ** 2)"
   ]
  },
  {
   "cell_type": "code",
   "execution_count": 91,
   "id": "5e070736-0a89-4f6d-a502-89f7824bc6c7",
   "metadata": {},
   "outputs": [
    {
     "name": "stdout",
     "output_type": "stream",
     "text": [
      "[1, 4, 9, 16, 25]\n"
     ]
    }
   ],
   "source": [
    "print(squares) "
   ]
  },
  {
   "cell_type": "code",
   "execution_count": 96,
   "id": "d0928a43-7048-4307-9548-f9968c700a0e",
   "metadata": {},
   "outputs": [],
   "source": [
    "squares = [i ** 2 for i in range(1, 6)] #without loop"
   ]
  },
  {
   "cell_type": "code",
   "execution_count": 98,
   "id": "48252fc9-9f20-4630-a516-1f4a913da775",
   "metadata": {},
   "outputs": [
    {
     "name": "stdout",
     "output_type": "stream",
     "text": [
      "[1, 4, 9, 16, 25]\n"
     ]
    }
   ],
   "source": [
    "print(squares)"
   ]
  },
  {
   "cell_type": "markdown",
   "id": "93d558bc-4251-4ea4-b9b2-bf86d28090bd",
   "metadata": {},
   "source": [
    "## 12.\tWrite a python program on Set Comprehensions using for loop and without loop."
   ]
  },
  {
   "cell_type": "code",
   "execution_count": 101,
   "id": "e8f82a0c-068e-4673-af57-b53d8e2a4025",
   "metadata": {},
   "outputs": [],
   "source": [
    "cubes = set()\n",
    "for i in range(1, 6):\n",
    "    cubes.add(i ** 3)"
   ]
  },
  {
   "cell_type": "code",
   "execution_count": 105,
   "id": "83498c63-7c58-4ed6-84ed-4ef45392b5f4",
   "metadata": {},
   "outputs": [
    {
     "name": "stdout",
     "output_type": "stream",
     "text": [
      "{64, 1, 8, 27, 125}\n"
     ]
    }
   ],
   "source": [
    "print(cubes) # with loop"
   ]
  },
  {
   "cell_type": "code",
   "execution_count": 109,
   "id": "e873dd96-6a50-4571-9b18-4829f759e2bd",
   "metadata": {},
   "outputs": [
    {
     "name": "stdout",
     "output_type": "stream",
     "text": [
      "{64, 1, 8, 27, 125}\n"
     ]
    }
   ],
   "source": [
    "cubes = {i ** 3 for i in range(1, 6)} # without loop\n",
    "print(cubes)  "
   ]
  },
  {
   "cell_type": "markdown",
   "id": "e2899c3b-c25b-4b5b-8075-49d07f5a668e",
   "metadata": {},
   "source": [
    "## 13.\tWrite a python program on Dictionary Comprehensions using for loop and without loop."
   ]
  },
  {
   "cell_type": "code",
   "execution_count": 112,
   "id": "498d7df8-8856-417b-a2c5-74f243ed81f8",
   "metadata": {},
   "outputs": [],
   "source": [
    "squares_dict = {}\n",
    "for i in range(1, 6):\n",
    "    squares_dict[i] = i ** 2"
   ]
  },
  {
   "cell_type": "code",
   "execution_count": 116,
   "id": "9d355d5d-fadc-4d42-af25-213a15f7f660",
   "metadata": {},
   "outputs": [
    {
     "name": "stdout",
     "output_type": "stream",
     "text": [
      "{1: 1, 2: 4, 3: 9, 4: 16, 5: 25}\n"
     ]
    }
   ],
   "source": [
    "print(squares_dict)"
   ]
  },
  {
   "cell_type": "code",
   "execution_count": 118,
   "id": "045b9d10-4d94-4bd3-b2c1-395d929464b9",
   "metadata": {},
   "outputs": [
    {
     "name": "stdout",
     "output_type": "stream",
     "text": [
      "{1: 1, 2: 4, 3: 9, 4: 16, 5: 25}\n"
     ]
    }
   ],
   "source": [
    "squares_dict = {i: i ** 2 for i in range(1, 6)}\n",
    "print(squares_dict) "
   ]
  },
  {
   "cell_type": "markdown",
   "id": "68584e99-4ce3-4a5a-b27b-03e71cbe8dfd",
   "metadata": {},
   "source": [
    "## 14.\tWrite a python program on Generator  Comprehensions using for loop and without loop"
   ]
  },
  {
   "cell_type": "code",
   "execution_count": 1,
   "id": "fedb892e-920b-4959-9d12-f3c61d9cf9b4",
   "metadata": {},
   "outputs": [
    {
     "name": "stdout",
     "output_type": "stream",
     "text": [
      "[1, 2, 3, 4, 5]\n",
      "[5, 1]\n"
     ]
    }
   ],
   "source": [
    "# Step 1: Rename your custom list function to avoid conflict\n",
    "def get_max_min(l):\n",
    "    if len(l) == 0:  # Check if the list is empty\n",
    "        return \"The list is empty.\"\n",
    "    return [max(l), min(l)]  # Return max and min if the list is not empty\n",
    "\n",
    "# Step 2: Define the generator function\n",
    "def number_gen():\n",
    "    for i in range(1, 6):  # Generates numbers from 1 to 5\n",
    "        yield i\n",
    "\n",
    "# Step 3: Create the generator object and convert it to a list\n",
    "gen = number_gen()\n",
    "numbers = list(gen)  # Use the built-in list function to convert the generator to a list\n",
    "print(numbers)       # Output: [1, 2, 3, 4, 5]\n",
    "\n",
    "# Step 4: Use your renamed function to get the max and min\n",
    "print(get_max_min(numbers))  # Output: [5, 1]\n"
   ]
  },
  {
   "cell_type": "markdown",
   "id": "0859a860-e97b-4e92-8a22-82b0d1ef0d44",
   "metadata": {},
   "source": [
    "## Write a python program for Linear search."
   ]
  },
  {
   "cell_type": "code",
   "execution_count": 146,
   "id": "b5705e95-a485-4887-965f-dd6fb6e6619d",
   "metadata": {},
   "outputs": [],
   "source": [
    "def linear_search(arr, target):\n",
    "    for i in range(len(arr)):\n",
    "        if arr[i] == target:\n",
    "            return i\n",
    "    return -1  # Return -1 if target is not found"
   ]
  },
  {
   "cell_type": "code",
   "execution_count": 148,
   "id": "601856ba-1bc0-4ed1-8336-03cce5880e9b",
   "metadata": {},
   "outputs": [
    {
     "name": "stdout",
     "output_type": "stream",
     "text": [
      "3\n"
     ]
    }
   ],
   "source": [
    "\n",
    "arr = [10, 23, 45, 70, 11, 15]\n",
    "print(linear_search(arr, 70))  # Output: 3\n"
   ]
  },
  {
   "cell_type": "markdown",
   "id": "d4f3289b-fc56-4675-91f0-8d9a241db3d3",
   "metadata": {},
   "source": [
    "## 16.\tWrite a python program for Binary search."
   ]
  },
  {
   "cell_type": "code",
   "execution_count": 160,
   "id": "5a5f3065-013b-4a78-b6ab-32c99cdbcc98",
   "metadata": {},
   "outputs": [],
   "source": [
    "def binary_search(arr, target):\n",
    "    low, high = 0, len(arr) - 1\n",
    "    while low <= high:\n",
    "        mid = (low + high) // 2\n",
    "        if arr[mid] == target:\n",
    "            return mid\n",
    "        elif arr[mid] < target:\n",
    "            low = mid + 1\n",
    "        else:\n",
    "            high = mid - 1\n",
    "    return -1  # "
   ]
  },
  {
   "cell_type": "code",
   "execution_count": 162,
   "id": "8853c740-4ffc-4e58-9af5-8af70190ec0c",
   "metadata": {},
   "outputs": [
    {
     "name": "stdout",
     "output_type": "stream",
     "text": [
      "3\n"
     ]
    }
   ],
   "source": [
    "arr = [10, 15, 23, 45, 70]\n",
    "print(binary_search(arr, 45))"
   ]
  },
  {
   "cell_type": "markdown",
   "id": "745eca3f-00f8-48f3-9359-64898f65c943",
   "metadata": {},
   "source": [
    "## section\n"
   ]
  },
  {
   "cell_type": "code",
   "execution_count": 155,
   "id": "5789fcbe-4777-457c-85c4-ce50bc1bb352",
   "metadata": {},
   "outputs": [],
   "source": [
    "def selection_sort(arr):\n",
    "    for i in range(len(arr)):\n",
    "        min_idx = i\n",
    "        for j in range(i+1, len(arr)):\n",
    "            if arr[j] < arr[min_idx]:\n",
    "                min_idx = j\n",
    "        arr[i], arr[min_idx] = arr[min_idx], arr[i]\n",
    "    return arr\n"
   ]
  },
  {
   "cell_type": "code",
   "execution_count": 157,
   "id": "0eb5b9d4-8990-47e1-b26b-eb748a721423",
   "metadata": {},
   "outputs": [
    {
     "name": "stdout",
     "output_type": "stream",
     "text": [
      "[11, 12, 22, 25, 64]\n"
     ]
    }
   ],
   "source": [
    "\n",
    "# Example usage\n",
    "arr = [64, 25, 12, 22, 11]\n",
    "print(selection_sort(arr))  # Output: [11, 12, 22, 25, 64]\n"
   ]
  },
  {
   "cell_type": "markdown",
   "id": "ae9490c5-fb91-4a6b-a6b6-7109bbcdd90b",
   "metadata": {},
   "source": [
    "## 17.\tWrite a python program to implement Bubble sort."
   ]
  },
  {
   "cell_type": "code",
   "execution_count": 165,
   "id": "f51692ba-1993-42db-8081-5f3f33a2a43b",
   "metadata": {},
   "outputs": [],
   "source": [
    "def bubble_sort(arr):\n",
    "    n = len(arr)\n",
    "    for i in range(n):\n",
    "        for j in range(0, n-i-1):\n",
    "            if arr[j] > arr[j+1]:\n",
    "                arr[j], arr[j+1] = arr[j+1], arr[j]\n",
    "    return arr\n",
    "\n"
   ]
  },
  {
   "cell_type": "code",
   "execution_count": 167,
   "id": "1c5cbca8-d899-45f8-981c-7b338afe6ace",
   "metadata": {},
   "outputs": [
    {
     "name": "stdout",
     "output_type": "stream",
     "text": [
      "[11, 12, 22, 25, 34, 64, 90]\n"
     ]
    }
   ],
   "source": [
    "# Example usage\n",
    "arr = [64, 34, 25, 12, 22, 11, 90]\n",
    "print(bubble_sort(arr))  # Output: [11, 12, 22, 25, 34, 64, 90]\n"
   ]
  },
  {
   "cell_type": "markdown",
   "id": "a748e6ed-e9b1-4f1b-9434-09ceb353f1b0",
   "metadata": {},
   "source": [
    "## 19. Merge Sort\n"
   ]
  },
  {
   "cell_type": "code",
   "execution_count": 175,
   "id": "718697d5-d3aa-4856-a74d-a9e135c14772",
   "metadata": {},
   "outputs": [],
   "source": [
    "def merge_sort(arr):\n",
    "    if len(arr) > 1:\n",
    "        mid = len(arr) // 2\n",
    "        left_half = arr[:mid]\n",
    "        right_half = arr[mid:]\n",
    "\n",
    "        merge_sort(left_half)\n",
    "        merge_sort(right_half)\n",
    "\n",
    "        i = j = k = 0\n",
    "        while i < len(left_half) and j < len(right_half):\n",
    "            if left_half[i] < right_half[j]:\n",
    "                arr[k] = left_half[i]\n",
    "                i += 1\n",
    "            else:\n",
    "                arr[k] = right_half[j]\n",
    "                j += 1\n",
    "            k += 1\n",
    "\n",
    "        while i < len(left_half):\n",
    "            arr[k] = left_half[i]\n",
    "            i += 1\n",
    "            k += 1\n",
    "\n",
    "        while j < len(right_half):\n",
    "            arr[k] = right_half[j]\n",
    "            j += 1\n",
    "            k += 1\n",
    "\n",
    "    return arr\n"
   ]
  },
  {
   "cell_type": "code",
   "execution_count": 179,
   "id": "45d1351c-f741-4940-96e7-868e0d41b721",
   "metadata": {},
   "outputs": [
    {
     "name": "stdout",
     "output_type": "stream",
     "text": [
      "[5, 6, 7, 11, 12, 13]\n"
     ]
    }
   ],
   "source": [
    "arr = [12, 11, 13, 5, 6, 7]\n",
    "print(merge_sort(arr))  # Output: [5, 6, 7, 11, 12, 13]\n"
   ]
  },
  {
   "cell_type": "markdown",
   "id": "8b142c90-d034-46b8-8946-47f5af608563",
   "metadata": {},
   "source": [
    "## 20. Quick Sort"
   ]
  },
  {
   "cell_type": "code",
   "execution_count": 187,
   "id": "6fc53c09-8dc2-4b48-a913-28d5e5bee5a9",
   "metadata": {},
   "outputs": [],
   "source": [
    "def quick_sort(arr):\n",
    "    if len(arr) <= 1:\n",
    "        return arr\n",
    "    pivot = arr[len(arr) // 2]\n",
    "    left = [x for x in arr if x < pivot]\n",
    "    middle = [x for x in arr if x == pivot]\n",
    "    right = [x for x in arr if x > pivot]\n",
    "    return quick_sort(left) + middle + quick_sort(right)"
   ]
  },
  {
   "cell_type": "code",
   "execution_count": 189,
   "id": "2ce7b74a-b154-4be3-aef9-1fe46ad603e0",
   "metadata": {},
   "outputs": [
    {
     "name": "stdout",
     "output_type": "stream",
     "text": [
      "[1, 5, 7, 8, 9, 10]\n"
     ]
    }
   ],
   "source": [
    "\n",
    "# Example usage\n",
    "arr = [10, 7, 8, 9, 1, 5]\n",
    "print(quick_sort(arr))  # Output: [1, 5, 7, 8, 9, 10]\n"
   ]
  },
  {
   "cell_type": "code",
   "execution_count": null,
   "id": "53362292-fef7-4c3f-b668-e84b17401cc9",
   "metadata": {},
   "outputs": [],
   "source": []
  }
 ],
 "metadata": {
  "kernelspec": {
   "display_name": "Python 3 (ipykernel)",
   "language": "python",
   "name": "python3"
  },
  "language_info": {
   "codemirror_mode": {
    "name": "ipython",
    "version": 3
   },
   "file_extension": ".py",
   "mimetype": "text/x-python",
   "name": "python",
   "nbconvert_exporter": "python",
   "pygments_lexer": "ipython3",
   "version": "3.12.4"
  }
 },
 "nbformat": 4,
 "nbformat_minor": 5
}
